{
 "cells": [
  {
   "cell_type": "code",
   "execution_count": 1,
   "metadata": {},
   "outputs": [],
   "source": [
    "import pandas as pd\n",
    "import os\n",
    "from matplotlib import pyplot as plt\n",
    "import seaborn as sns\n",
    "import matplotlib.ticker as mtick\n",
    "import numpy as np"
   ]
  },
  {
   "cell_type": "code",
   "execution_count": 2,
   "metadata": {},
   "outputs": [
    {
     "data": {
      "text/html": [
       "<div>\n",
       "<style scoped>\n",
       "    .dataframe tbody tr th:only-of-type {\n",
       "        vertical-align: middle;\n",
       "    }\n",
       "\n",
       "    .dataframe tbody tr th {\n",
       "        vertical-align: top;\n",
       "    }\n",
       "\n",
       "    .dataframe thead th {\n",
       "        text-align: right;\n",
       "    }\n",
       "</style>\n",
       "<table border=\"1\" class=\"dataframe\">\n",
       "  <thead>\n",
       "    <tr style=\"text-align: right;\">\n",
       "      <th></th>\n",
       "      <th>p_val</th>\n",
       "      <th>avg_logFC</th>\n",
       "      <th>pct.1</th>\n",
       "      <th>pct.2</th>\n",
       "      <th>p_val_adj</th>\n",
       "      <th>cell_type</th>\n",
       "    </tr>\n",
       "    <tr>\n",
       "      <th>gene</th>\n",
       "      <th></th>\n",
       "      <th></th>\n",
       "      <th></th>\n",
       "      <th></th>\n",
       "      <th></th>\n",
       "      <th></th>\n",
       "    </tr>\n",
       "  </thead>\n",
       "  <tbody>\n",
       "    <tr>\n",
       "      <th>PAEP</th>\n",
       "      <td>1.410000e-191</td>\n",
       "      <td>3.162086</td>\n",
       "      <td>0.976</td>\n",
       "      <td>0.069</td>\n",
       "      <td>3.690000e-187</td>\n",
       "      <td>dVEC</td>\n",
       "    </tr>\n",
       "    <tr>\n",
       "      <th>IGKC</th>\n",
       "      <td>5.810000e-49</td>\n",
       "      <td>-1.908166</td>\n",
       "      <td>0.002</td>\n",
       "      <td>0.219</td>\n",
       "      <td>1.520000e-44</td>\n",
       "      <td>dVEC</td>\n",
       "    </tr>\n",
       "    <tr>\n",
       "      <th>ADAMTS9</th>\n",
       "      <td>5.940000e-49</td>\n",
       "      <td>1.698327</td>\n",
       "      <td>0.759</td>\n",
       "      <td>0.158</td>\n",
       "      <td>1.550000e-44</td>\n",
       "      <td>dVEC</td>\n",
       "    </tr>\n",
       "    <tr>\n",
       "      <th>SLC2A3</th>\n",
       "      <td>1.520000e-41</td>\n",
       "      <td>1.200272</td>\n",
       "      <td>0.698</td>\n",
       "      <td>0.173</td>\n",
       "      <td>3.970000e-37</td>\n",
       "      <td>dVEC</td>\n",
       "    </tr>\n",
       "    <tr>\n",
       "      <th>PCDH17</th>\n",
       "      <td>8.850000e-41</td>\n",
       "      <td>1.466038</td>\n",
       "      <td>0.729</td>\n",
       "      <td>0.182</td>\n",
       "      <td>2.310000e-36</td>\n",
       "      <td>dVEC</td>\n",
       "    </tr>\n",
       "  </tbody>\n",
       "</table>\n",
       "</div>"
      ],
      "text/plain": [
       "                 p_val  avg_logFC  pct.1  pct.2      p_val_adj cell_type\n",
       "gene                                                                    \n",
       "PAEP     1.410000e-191   3.162086  0.976  0.069  3.690000e-187      dVEC\n",
       "IGKC      5.810000e-49  -1.908166  0.002  0.219   1.520000e-44      dVEC\n",
       "ADAMTS9   5.940000e-49   1.698327  0.759  0.158   1.550000e-44      dVEC\n",
       "SLC2A3    1.520000e-41   1.200272  0.698  0.173   3.970000e-37      dVEC\n",
       "PCDH17    8.850000e-41   1.466038  0.729  0.182   2.310000e-36      dVEC"
      ]
     },
     "execution_count": 2,
     "metadata": {},
     "output_type": "execute_result"
    }
   ],
   "source": [
    "#The following CSV file was compiled from the Logistic Regression based DEG analysis: early vs late controls (normal pregnancy samples) \n",
    "data= pd.read_csv('./PE_global_heatmaps/early_genes_differential.csv', index_col= 'gene')\n",
    "\n",
    "data.head()"
   ]
  },
  {
   "cell_type": "code",
   "execution_count": 9,
   "metadata": {},
   "outputs": [
    {
     "data": {
      "text/html": [
       "<div>\n",
       "<style scoped>\n",
       "    .dataframe tbody tr th:only-of-type {\n",
       "        vertical-align: middle;\n",
       "    }\n",
       "\n",
       "    .dataframe tbody tr th {\n",
       "        vertical-align: top;\n",
       "    }\n",
       "\n",
       "    .dataframe thead th {\n",
       "        text-align: right;\n",
       "    }\n",
       "</style>\n",
       "<table border=\"1\" class=\"dataframe\">\n",
       "  <thead>\n",
       "    <tr style=\"text-align: right;\">\n",
       "      <th></th>\n",
       "      <th>p_val</th>\n",
       "      <th>avg_logFC</th>\n",
       "      <th>pct.1</th>\n",
       "      <th>pct.2</th>\n",
       "      <th>p_val_adj</th>\n",
       "      <th>cell_type</th>\n",
       "    </tr>\n",
       "    <tr>\n",
       "      <th>gene</th>\n",
       "      <th></th>\n",
       "      <th></th>\n",
       "      <th></th>\n",
       "      <th></th>\n",
       "      <th></th>\n",
       "      <th></th>\n",
       "    </tr>\n",
       "  </thead>\n",
       "  <tbody>\n",
       "    <tr>\n",
       "      <th>PAEP</th>\n",
       "      <td>1.410000e-191</td>\n",
       "      <td>3.162086</td>\n",
       "      <td>0.976</td>\n",
       "      <td>0.069</td>\n",
       "      <td>3.690000e-187</td>\n",
       "      <td>dVEC</td>\n",
       "    </tr>\n",
       "    <tr>\n",
       "      <th>IGKC</th>\n",
       "      <td>5.810000e-49</td>\n",
       "      <td>-1.908166</td>\n",
       "      <td>0.002</td>\n",
       "      <td>0.219</td>\n",
       "      <td>1.520000e-44</td>\n",
       "      <td>dVEC</td>\n",
       "    </tr>\n",
       "    <tr>\n",
       "      <th>ADAMTS9</th>\n",
       "      <td>5.940000e-49</td>\n",
       "      <td>1.698327</td>\n",
       "      <td>0.759</td>\n",
       "      <td>0.158</td>\n",
       "      <td>1.550000e-44</td>\n",
       "      <td>dVEC</td>\n",
       "    </tr>\n",
       "    <tr>\n",
       "      <th>SLC2A3</th>\n",
       "      <td>1.520000e-41</td>\n",
       "      <td>1.200272</td>\n",
       "      <td>0.698</td>\n",
       "      <td>0.173</td>\n",
       "      <td>3.970000e-37</td>\n",
       "      <td>dVEC</td>\n",
       "    </tr>\n",
       "    <tr>\n",
       "      <th>PCDH17</th>\n",
       "      <td>8.850000e-41</td>\n",
       "      <td>1.466038</td>\n",
       "      <td>0.729</td>\n",
       "      <td>0.182</td>\n",
       "      <td>2.310000e-36</td>\n",
       "      <td>dVEC</td>\n",
       "    </tr>\n",
       "  </tbody>\n",
       "</table>\n",
       "</div>"
      ],
      "text/plain": [
       "                 p_val  avg_logFC  pct.1  pct.2      p_val_adj cell_type\n",
       "gene                                                                    \n",
       "PAEP     1.410000e-191   3.162086  0.976  0.069  3.690000e-187      dVEC\n",
       "IGKC      5.810000e-49  -1.908166  0.002  0.219   1.520000e-44      dVEC\n",
       "ADAMTS9   5.940000e-49   1.698327  0.759  0.158   1.550000e-44      dVEC\n",
       "SLC2A3    1.520000e-41   1.200272  0.698  0.173   3.970000e-37      dVEC\n",
       "PCDH17    8.850000e-41   1.466038  0.729  0.182   2.310000e-36      dVEC"
      ]
     },
     "execution_count": 9,
     "metadata": {},
     "output_type": "execute_result"
    }
   ],
   "source": [
    "data_deg= data[data['p_val_adj'] < 0.05]\n",
    "\n",
    "data_deg.head()"
   ]
  },
  {
   "cell_type": "code",
   "execution_count": 10,
   "metadata": {},
   "outputs": [
    {
     "data": {
      "text/plain": [
       "(1012, 6)"
      ]
     },
     "execution_count": 10,
     "metadata": {},
     "output_type": "execute_result"
    }
   ],
   "source": [
    "data_deg.shape"
   ]
  },
  {
   "cell_type": "code",
   "execution_count": 11,
   "metadata": {},
   "outputs": [
    {
     "data": {
      "text/plain": [
       "cell_type\n",
       "DSC_1    388\n",
       "DSC_2      7\n",
       "dFB      169\n",
       "dLEC      10\n",
       "dMSC     241\n",
       "dSMC      32\n",
       "dVEC     165\n",
       "dtype: int64"
      ]
     },
     "execution_count": 11,
     "metadata": {},
     "output_type": "execute_result"
    }
   ],
   "source": [
    "data_deg.groupby('cell_type').size() #before ordering"
   ]
  },
  {
   "cell_type": "code",
   "execution_count": 12,
   "metadata": {},
   "outputs": [
    {
     "name": "stderr",
     "output_type": "stream",
     "text": [
      "/home/debnatho/anaconda3/envs/trajectory_analysis_R/lib/python3.6/site-packages/ipykernel_launcher.py:5: SettingWithCopyWarning: \n",
      "A value is trying to be set on a copy of a slice from a DataFrame.\n",
      "Try using .loc[row_indexer,col_indexer] = value instead\n",
      "\n",
      "See the caveats in the documentation: https://pandas.pydata.org/pandas-docs/stable/user_guide/indexing.html#returning-a-view-versus-a-copy\n",
      "  \"\"\"\n"
     ]
    }
   ],
   "source": [
    "order= ['dVEC', 'dSMC', 'dLEC', 'dFB', 'DSC_1', 'DSC_2', 'dMSC']\n",
    "\n",
    "#Reorder the cell types. \n",
    "data_deg[\"cell_type\"] = pd.Categorical(data_deg[\"cell_type\"], categories = order)\n",
    "\n",
    "data_deg= data_deg.sort_values(by = \"cell_type\")"
   ]
  },
  {
   "cell_type": "code",
   "execution_count": 13,
   "metadata": {},
   "outputs": [
    {
     "data": {
      "text/plain": [
       "cell_type\n",
       "dVEC     165\n",
       "dSMC      32\n",
       "dLEC      10\n",
       "dFB      169\n",
       "DSC_1    388\n",
       "DSC_2      7\n",
       "dMSC     241\n",
       "dtype: int64"
      ]
     },
     "execution_count": 13,
     "metadata": {},
     "output_type": "execute_result"
    }
   ],
   "source": [
    "data_deg.groupby('cell_type').size()"
   ]
  },
  {
   "cell_type": "code",
   "execution_count": 14,
   "metadata": {},
   "outputs": [],
   "source": [
    "#Make the color codes consistent with the UMAP colors as shown in main 1B. \n",
    "cols_list= ['#f87060', '#0b1d51', '#bfff80', '#bf3100', '#56cbf9', '#7c0b2b', '#c0c999']"
   ]
  },
  {
   "cell_type": "code",
   "execution_count": 15,
   "metadata": {},
   "outputs": [],
   "source": [
    "def make_de_strip_plot(all_de):\n",
    "    fig = plt.figure(figsize=[6, 4])\n",
    "    order= ['dVEC', 'dSMC', 'dLEC', 'dFB', 'DSC_1', 'DSC_2', 'dMSC']\n",
    "    #order = all_de.cell_type.value_counts().index\n",
    "\n",
    "    ax1 = sns.stripplot(data=all_de, \n",
    "              y='avg_logFC', \n",
    "              x='cell_type', \n",
    "              order= None,\n",
    "              jitter=True, \n",
    "              size=7,\n",
    "              alpha=.8,\n",
    "              palette= cols_list\n",
    "              )\n",
    "    plt.xticks(rotation=45, horizontalalignment=\"right\");#rotation_mode=\"anchor\");\n",
    "    \n",
    "    ax2 = ax1.twinx()  \n",
    "    \n",
    "    #num_de_genes = all_de.groupby('cell_type').size().sort_values(ascending=False)\n",
    "    num_de_genes= all_de.groupby('cell_type').size()\n",
    "    ax2.hlines(num_de_genes, np.arange(len(order))-.4, np.arange(len(order))+.4, colors='k', linewidth=2)\n",
    "    ax2.set_ylabel('Number of signficant early diferentially expressed genes', color='k')  \n",
    "    \n",
    "    for i,num in enumerate(num_de_genes):\n",
    "        ax2.text(s=str(num), x=i, y=num+4, ha='center', fontsize='large', fontweight='bold')"
   ]
  },
  {
   "cell_type": "code",
   "execution_count": 16,
   "metadata": {},
   "outputs": [
    {
     "data": {
      "image/png": "[encoded data removed]",
      "text/plain": [
       "<Figure size 432x288 with 2 Axes>"
      ]
     },
     "metadata": {
      "needs_background": "light"
     },
     "output_type": "display_data"
    }
   ],
   "source": [
    "cg= make_de_strip_plot(data_deg)\n",
    "\n",
    "plt.savefig(\"./Early_DEG_plots/Early_remodeling_plot_final_v2.pdf\", dpi=800)\n",
    "\n",
    "#In the final figure, up/downregulated genes are written as separate color codes & the hlines are removed. "
   ]
  },
  {
   "cell_type": "code",
   "execution_count": null,
   "metadata": {},
   "outputs": [],
   "source": []
  }
 ],
 "metadata": {
  "kernelspec": {
   "display_name": "Python 3",
   "language": "python",
   "name": "python3"
  },
  "language_info": {
   "codemirror_mode": {
    "name": "ipython",
    "version": 3
   },
   "file_extension": ".py",
   "mimetype": "text/x-python",
   "name": "python",
   "nbconvert_exporter": "python",
   "pygments_lexer": "ipython3",
   "version": "3.6.9"
  }
 },
 "nbformat": 4,
 "nbformat_minor": 4
}
