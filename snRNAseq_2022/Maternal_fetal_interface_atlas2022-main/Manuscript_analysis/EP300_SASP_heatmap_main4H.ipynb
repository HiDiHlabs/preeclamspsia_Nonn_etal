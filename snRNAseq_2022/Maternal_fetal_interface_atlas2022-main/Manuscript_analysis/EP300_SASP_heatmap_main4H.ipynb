{
 "cells": [
  {
   "cell_type": "code",
   "execution_count": 1,
   "id": "d5be8b23",
   "metadata": {},
   "outputs": [],
   "source": [
    "import pandas as pd\n",
    "import seaborn as sns\n",
    "\n",
    "import matplotlib.pyplot as plt\n",
    "plt.rcParams['figure.dpi'] = 90"
   ]
  },
  {
   "cell_type": "code",
   "execution_count": 2,
   "id": "18e1e6c8",
   "metadata": {},
   "outputs": [
    {
     "data": {
      "text/html": [
       "<div>\n",
       "<style scoped>\n",
       "    .dataframe tbody tr th:only-of-type {\n",
       "        vertical-align: middle;\n",
       "    }\n",
       "\n",
       "    .dataframe tbody tr th {\n",
       "        vertical-align: top;\n",
       "    }\n",
       "\n",
       "    .dataframe thead th {\n",
       "        text-align: right;\n",
       "    }\n",
       "</style>\n",
       "<table border=\"1\" class=\"dataframe\">\n",
       "  <thead>\n",
       "    <tr style=\"text-align: right;\">\n",
       "      <th></th>\n",
       "      <th>vSCT1</th>\n",
       "      <th>vSCT2</th>\n",
       "      <th>vSCTjuv</th>\n",
       "    </tr>\n",
       "    <tr>\n",
       "      <th>gene</th>\n",
       "      <th></th>\n",
       "      <th></th>\n",
       "      <th></th>\n",
       "    </tr>\n",
       "  </thead>\n",
       "  <tbody>\n",
       "    <tr>\n",
       "      <th>GDF15</th>\n",
       "      <td>-0.243680</td>\n",
       "      <td>0.250638</td>\n",
       "      <td>-0.225041</td>\n",
       "    </tr>\n",
       "    <tr>\n",
       "      <th>MIF</th>\n",
       "      <td>0.219369</td>\n",
       "      <td>0.151662</td>\n",
       "      <td>1.332533</td>\n",
       "    </tr>\n",
       "    <tr>\n",
       "      <th>MYOF</th>\n",
       "      <td>1.050423</td>\n",
       "      <td>1.114564</td>\n",
       "      <td>0.510683</td>\n",
       "    </tr>\n",
       "    <tr>\n",
       "      <th>HEXB</th>\n",
       "      <td>0.475846</td>\n",
       "      <td>0.305176</td>\n",
       "      <td>0.721103</td>\n",
       "    </tr>\n",
       "    <tr>\n",
       "      <th>HTRA1</th>\n",
       "      <td>0.879184</td>\n",
       "      <td>0.915218</td>\n",
       "      <td>1.073131</td>\n",
       "    </tr>\n",
       "  </tbody>\n",
       "</table>\n",
       "</div>"
      ],
      "text/plain": [
       "          vSCT1     vSCT2   vSCTjuv\n",
       "gene                               \n",
       "GDF15 -0.243680  0.250638 -0.225041\n",
       "MIF    0.219369  0.151662  1.332533\n",
       "MYOF   1.050423  1.114564  0.510683\n",
       "HEXB   0.475846  0.305176  0.721103\n",
       "HTRA1  0.879184  0.915218  1.073131"
      ]
     },
     "execution_count": 2,
     "metadata": {},
     "output_type": "execute_result"
    }
   ],
   "source": [
    "#DEG(s) that are both EP300 targets plus SASPs:\n",
    "#Values represent Log2FC between eoPE vs term controls (Logistic Regression)\n",
    "data= pd.read_csv('vSCT_final_sasp_main4_240522.csv', index_col= 'gene')\n",
    "\n",
    "data.head()"
   ]
  },
  {
   "cell_type": "code",
   "execution_count": 3,
   "id": "f80038fc",
   "metadata": {},
   "outputs": [
    {
     "data": {
      "image/png": "[encoded data removed]",
      "text/plain": [
       "<Figure size 360x810 with 4 Axes>"
      ]
     },
     "metadata": {
      "needs_background": "light"
     },
     "output_type": "display_data"
    }
   ],
   "source": [
    "ep300_sasp_targets= ['GDF15', 'MIF', 'MYOF', 'HEXB', 'HTRA1', 'ANXA4', 'HSPG2', 'FLNB',\n",
    "       'CTSD', 'CD59', 'SERPINE1', 'KRT19',\n",
    "       'CALM1', 'PRDX6', 'GOLGB1', 'DENND4A', 'PACSIN2', 'BASP1',\n",
    "       'ERGIC1', 'NDRG1', 'SNX9', 'DDX39B'] \n",
    "\n",
    "#Subset by features above: \n",
    "ep300_sasp= data.loc[ep300_sasp_targets, :] \n",
    "\n",
    "#Plot EP300 targets that are senescence-associated secretory phenotype (SASP) associated. \n",
    "#Targets are differentially expressed in STB cell states in eoPE. \n",
    "ax= sns.clustermap(ep300_sasp, yticklabels=True, vmax= 1, vmin= -1, \n",
    "                  col_cluster=True, figsize= (4,9),  \n",
    "                  center=0, linecolor='grey', linewidth=0.3,row_cluster=True, \n",
    "                  cmap= 'twilight_shifted')"
   ]
  },
  {
   "cell_type": "code",
   "execution_count": 4,
   "id": "3de084cc",
   "metadata": {},
   "outputs": [
    {
     "data": {
      "text/plain": [
       "array(['GDF15', 'MIF', 'MYOF', 'HEXB', 'HTRA1', 'ANXA4', 'HSPG2', 'FLNB',\n",
       "       'CTSD', 'CD59', 'SERPINE1', 'KRT19', 'CALM1', 'PRDX6', 'GOLGB1',\n",
       "       'DENND4A', 'PACSIN2', 'BASP1', 'ERGIC1', 'NDRG1', 'SNX9', 'DDX39B'],\n",
       "      dtype=object)"
      ]
     },
     "execution_count": 4,
     "metadata": {},
     "output_type": "execute_result"
    }
   ],
   "source": [
    "#Plot a heatmap with NA(s) masked:\n",
    "#Read CSV where NA values are marked. \n",
    "df_all= pd.read_csv('PE_markers_stripplot_050422.csv')\n",
    "\n",
    "#Pivot table: pick top genes dysregulated across \"cell type:\"\n",
    "pe_heat= pd.pivot_table(df_all, values= 'avg_log2FC', \n",
    "                     index=['gene'], columns= 'cell_type')\n",
    "\n",
    "#Subset only vSCT1/2 & vSCTjuv: \n",
    "pe_heat = pe_heat[[ 'vSCT1', 'vSCT2', 'vSCTjuv']]\n",
    "\n",
    "#Subset by feature list: gene_list_final\n",
    "data05= pe_heat.loc[ep300_sasp_targets, :] \n",
    "data05.index.values"
   ]
  },
  {
   "cell_type": "code",
   "execution_count": 8,
   "id": "cffe0a5d",
   "metadata": {},
   "outputs": [
    {
     "data": {
      "text/plain": [
       "array(['CD59', 'MIF', 'CTSD', 'GDF15', 'MYOF', 'HTRA1', 'HEXB', 'DDX39B',\n",
       "       'KRT19', 'PRDX6', 'ANXA4', 'GOLGB1', 'CALM1', 'DENND4A', 'PACSIN2',\n",
       "       'HSPG2', 'NDRG1', 'SNX9', 'ERGIC1', 'FLNB', 'SERPINE1', 'BASP1'],\n",
       "      dtype=object)"
      ]
     },
     "execution_count": 8,
     "metadata": {},
     "output_type": "execute_result"
    }
   ],
   "source": [
    "#Order a/c to top clustering: \n",
    "ordered_list= ['CD59', 'MIF', 'CTSD', 'GDF15', 'MYOF', 'HTRA1', 'HEXB', 'DDX39B', 'KRT19', 'PRDX6', 'ANXA4', \n",
    "              'GOLGB1', 'CALM1', 'DENND4A', 'PACSIN2', 'HSPG2', 'NDRG1', 'SNX9', 'ERGIC1', 'FLNB', 'SERPINE1', 'BASP1']\n",
    "\n",
    "data05= pe_heat.loc[ordered_list, :] \n",
    "data05.index.values"
   ]
  },
  {
   "cell_type": "code",
   "execution_count": 9,
   "id": "3795d86d",
   "metadata": {},
   "outputs": [
    {
     "data": {
      "text/html": [
       "<div>\n",
       "<style scoped>\n",
       "    .dataframe tbody tr th:only-of-type {\n",
       "        vertical-align: middle;\n",
       "    }\n",
       "\n",
       "    .dataframe tbody tr th {\n",
       "        vertical-align: top;\n",
       "    }\n",
       "\n",
       "    .dataframe thead th {\n",
       "        text-align: right;\n",
       "    }\n",
       "</style>\n",
       "<table border=\"1\" class=\"dataframe\">\n",
       "  <thead>\n",
       "    <tr style=\"text-align: right;\">\n",
       "      <th>cell_type</th>\n",
       "      <th>vSCT1</th>\n",
       "      <th>vSCT2</th>\n",
       "      <th>vSCTjuv</th>\n",
       "    </tr>\n",
       "    <tr>\n",
       "      <th>gene</th>\n",
       "      <th></th>\n",
       "      <th></th>\n",
       "      <th></th>\n",
       "    </tr>\n",
       "  </thead>\n",
       "  <tbody>\n",
       "    <tr>\n",
       "      <th>CD59</th>\n",
       "      <td>0.466601</td>\n",
       "      <td>0.000666</td>\n",
       "      <td>2.936080</td>\n",
       "    </tr>\n",
       "    <tr>\n",
       "      <th>MIF</th>\n",
       "      <td>0.000666</td>\n",
       "      <td>0.000666</td>\n",
       "      <td>1.332533</td>\n",
       "    </tr>\n",
       "    <tr>\n",
       "      <th>CTSD</th>\n",
       "      <td>0.000666</td>\n",
       "      <td>0.000666</td>\n",
       "      <td>1.142648</td>\n",
       "    </tr>\n",
       "    <tr>\n",
       "      <th>GDF15</th>\n",
       "      <td>0.000666</td>\n",
       "      <td>0.250638</td>\n",
       "      <td>0.000666</td>\n",
       "    </tr>\n",
       "    <tr>\n",
       "      <th>MYOF</th>\n",
       "      <td>1.050423</td>\n",
       "      <td>1.114564</td>\n",
       "      <td>0.000666</td>\n",
       "    </tr>\n",
       "  </tbody>\n",
       "</table>\n",
       "</div>"
      ],
      "text/plain": [
       "cell_type     vSCT1     vSCT2   vSCTjuv\n",
       "gene                                   \n",
       "CD59       0.466601  0.000666  2.936080\n",
       "MIF        0.000666  0.000666  1.332533\n",
       "CTSD       0.000666  0.000666  1.142648\n",
       "GDF15      0.000666  0.250638  0.000666\n",
       "MYOF       1.050423  1.114564  0.000666"
      ]
     },
     "execution_count": 9,
     "metadata": {},
     "output_type": "execute_result"
    }
   ],
   "source": [
    "mask_na = 0.000666\n",
    "df= data05.fillna(mask_na) #mask the NA values. \n",
    "df.head()"
   ]
  },
  {
   "cell_type": "code",
   "execution_count": 11,
   "id": "d25f6d91",
   "metadata": {},
   "outputs": [
    {
     "data": {
      "image/png": "[encoded data removed]",
      "text/plain": [
       "<Figure size 360x810 with 4 Axes>"
      ]
     },
     "metadata": {
      "needs_background": "light"
     },
     "output_type": "display_data"
    }
   ],
   "source": [
    "#Mask the NA values i.e., those cell types where a feature isn't a DEG would be masked. \n",
    "ax= sns.clustermap(df, mask=df == mask_na, yticklabels=True,  vmax=1, vmin= -1, \n",
    "                  col_cluster=True, figsize= (4,9), row_cluster=False, \n",
    "                  center=0, linecolor='grey', linewidth=0.3,\n",
    "                  cmap= 'twilight_shifted')\n",
    "\n",
    "#The empty cells (NAs) are formated with grey on Illustrator. "
   ]
  },
  {
   "cell_type": "code",
   "execution_count": null,
   "id": "19d03146",
   "metadata": {},
   "outputs": [],
   "source": []
  }
 ],
 "metadata": {
  "kernelspec": {
   "display_name": "Python 3 (ipykernel)",
   "language": "python",
   "name": "python3"
  },
  "language_info": {
   "codemirror_mode": {
    "name": "ipython",
    "version": 3
   },
   "file_extension": ".py",
   "mimetype": "text/x-python",
   "name": "python",
   "nbconvert_exporter": "python",
   "pygments_lexer": "ipython3",
   "version": "3.7.9"
  }
 },
 "nbformat": 4,
 "nbformat_minor": 5
}
