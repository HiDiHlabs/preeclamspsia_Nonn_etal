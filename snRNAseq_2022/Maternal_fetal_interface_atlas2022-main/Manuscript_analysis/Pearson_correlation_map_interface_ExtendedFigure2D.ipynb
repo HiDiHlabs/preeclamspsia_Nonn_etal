{
 "cells": [
  {
   "cell_type": "code",
   "execution_count": 1,
   "id": "e298a6d6",
   "metadata": {},
   "outputs": [],
   "source": [
    "import numpy as np\n",
    "import pandas as pd\n",
    "import scanpy as sc"
   ]
  },
  {
   "cell_type": "code",
   "execution_count": 2,
   "id": "ee6dba80",
   "metadata": {},
   "outputs": [
    {
     "data": {
      "text/plain": [
       "Index(['DSC1', 'DSC2', 'IL17RA_dMAC3', 'NKT', 'dDC', 'dEVT', 'dEpC', 'dFB1',\n",
       "       'dFB2', 'dGranul_new', 'dGranulocyte', 'dLEC', 'dLECp', 'dMAC1',\n",
       "       'dMAC2', 'dMSC', 'dMono_LYZ', 'dNK1', 'dNK2', 'dNK_prol',\n",
       "       'dPlasma_cell', 'dSMC', 'dTcell', 'dVEC', 'deported_SCT'],\n",
       "      dtype='object')"
      ]
     },
     "execution_count": 2,
     "metadata": {},
     "output_type": "execute_result"
    }
   ],
   "source": [
    "#Read the saved object for decidua:\n",
    "#Now, h5 class can easily convert it to categoricals. \n",
    "dec_results= \"/dh-projects/preeclampsia_2022/analysis/placenta_atlas_2022/decidua_anndata/SP014_SP136_decidua_analysis_040322.h5ad\"\n",
    "ldata_dec01= sc.read_h5ad(dec_results)\n",
    "ldata_dec01.obs['celltype_v5'].cat.categories"
   ]
  },
  {
   "cell_type": "code",
   "execution_count": 3,
   "id": "480c4a18",
   "metadata": {},
   "outputs": [
    {
     "data": {
      "text/plain": [
       "Index(['APAhi_tropho', 'PAMM', 'vEB1', 'vEVT', 'vFB1', 'vHBC', 'vHBC_prol',\n",
       "       'vMC', 'vSCT_1', 'vSCT_2', 'vSCTjuv', 'vTcell', 'vVCT', 'vVCT_prol',\n",
       "       'vVEC'],\n",
       "      dtype='object')"
      ]
     },
     "execution_count": 3,
     "metadata": {},
     "output_type": "execute_result"
    }
   ],
   "source": [
    "#Read latest object for placenta: \n",
    "results_scvi= \"/dh-projects/preeclampsia_2022/analysis/spatial_data/SP014_SP082_SP136_placenta_annotations_250322.h5ad\"\n",
    "adata_villi= sc.read_h5ad(results_scvi)\n",
    "adata_villi.obs['leiden_subclusters_refined02'].cat.categories"
   ]
  },
  {
   "cell_type": "code",
   "execution_count": 4,
   "id": "59b0d3f4",
   "metadata": {},
   "outputs": [
    {
     "data": {
      "text/plain": [
       "66100"
      ]
     },
     "execution_count": 4,
     "metadata": {},
     "output_type": "execute_result"
    }
   ],
   "source": [
    "ldata_dec= ldata_dec01.raw.to_adata()\n",
    "ldata_dec.n_obs"
   ]
  },
  {
   "cell_type": "code",
   "execution_count": 5,
   "id": "6e50fa62",
   "metadata": {},
   "outputs": [
    {
     "data": {
      "text/plain": [
       "145637"
      ]
     },
     "execution_count": 5,
     "metadata": {},
     "output_type": "execute_result"
    }
   ],
   "source": [
    "ldata_v= adata_villi.raw.to_adata()\n",
    "ldata_v.n_obs"
   ]
  },
  {
   "cell_type": "code",
   "execution_count": 6,
   "id": "644fbe2d",
   "metadata": {},
   "outputs": [],
   "source": [
    "ldata_v.obs['celltype_final']= ldata_v.obs['leiden_subclusters_refined02']"
   ]
  },
  {
   "cell_type": "code",
   "execution_count": 7,
   "id": "ff19dcdc",
   "metadata": {},
   "outputs": [],
   "source": [
    "ldata_dec.obs['celltype_final']= ldata_dec.obs['celltype_v5']"
   ]
  },
  {
   "cell_type": "code",
   "execution_count": 8,
   "id": "a78dbf9c",
   "metadata": {},
   "outputs": [],
   "source": [
    "#Concatenate the decidua & villi objects together for computing Pearson correlation between cell types/states: \n",
    "adata_all= ldata_dec.concatenate(ldata_v)"
   ]
  },
  {
   "cell_type": "code",
   "execution_count": 9,
   "id": "a1ac84eb",
   "metadata": {},
   "outputs": [
    {
     "data": {
      "text/plain": [
       "Index(['APAhi_tropho', 'DSC1', 'DSC2', 'IL17RA_dMAC3', 'NKT', 'PAMM', 'dDC',\n",
       "       'dEVT', 'dEpC', 'dFB1', 'dFB2', 'dGranul_new', 'dGranulocyte', 'dLEC',\n",
       "       'dLECp', 'dMAC1', 'dMAC2', 'dMSC', 'dMono_LYZ', 'dNK1', 'dNK2',\n",
       "       'dNK_prol', 'dPlasma_cell', 'dSMC', 'dTcell', 'dVEC', 'deported_SCT',\n",
       "       'vEB1', 'vEVT', 'vFB1', 'vHBC', 'vHBC_prol', 'vMC', 'vSCT_1', 'vSCT_2',\n",
       "       'vSCTjuv', 'vTcell', 'vVCT', 'vVCT_prol', 'vVEC'],\n",
       "      dtype='object')"
      ]
     },
     "execution_count": 9,
     "metadata": {},
     "output_type": "execute_result"
    }
   ],
   "source": [
    "adata_all.obs['celltype_final']= adata_all.obs['celltype_final'].astype('category')\n",
    "adata_all.obs['celltype_final'].cat.categories"
   ]
  },
  {
   "cell_type": "code",
   "execution_count": 10,
   "id": "74901fb8",
   "metadata": {},
   "outputs": [
    {
     "data": {
      "text/plain": [
       "vSTB1           59211\n",
       "vCTB            26873\n",
       "vSTB2           13264\n",
       "dTcell          10505\n",
       "dMAC1           10098\n",
       "dNK1             9682\n",
       "vCTBp            9508\n",
       "dEpC             7816\n",
       "vEB1             7460\n",
       "vHBC             7154\n",
       "vFB1             5590\n",
       "dLEC             4076\n",
       "dNK2             3531\n",
       "dMAC2            2897\n",
       "vSTBjuv          2840\n",
       "vEVT             2834\n",
       "dVEC             2756\n",
       "vCTBpf           2747\n",
       "vMC              2351\n",
       "dMono2           2286\n",
       "vVEC             1972\n",
       "PAMM             1963\n",
       "DSC1             1916\n",
       "dMono1           1750\n",
       "vTcell           1431\n",
       "dSMC             1128\n",
       "NKT              1119\n",
       "dDSCT            1065\n",
       "DSC2              708\n",
       "dEVT              686\n",
       "dFB1              684\n",
       "dMSC              665\n",
       "dFB2              662\n",
       "dPlasma_cell      551\n",
       "dLECp             532\n",
       "vHBCp             439\n",
       "dNKp              320\n",
       "dGranul           276\n",
       "dBcell            263\n",
       "dDC               128\n",
       "Name: celltype_final, dtype: int64"
      ]
     },
     "execution_count": 10,
     "metadata": {},
     "output_type": "execute_result"
    }
   ],
   "source": [
    "#Rename the cluster names as per the latest manuscript annotations:\n",
    "adata_all.obs['celltype_final']= adata_all.obs['celltype_final'].map(lambda x: {\"APAhi_tropho\": \"vCTBpf\",\n",
    "\"vSCTjuv\": \"vSTBjuv\", \"vSCT_1\": \"vSTB1\", \"vSCT_2\": \"vSTB2\", \"IL17RA_dMAC3\": \"dMono2\", \"deported_SCT\": \"dDSCT\",\n",
    "\"dGranul_new\": \"dBcell\", \"dNK_prol\": \"dNKp\", \"vHBC_prol\": \"vHBCp\", \"dMono_LYZ\": \"dMono1\", \n",
    "\"dGranulocyte\": \"dGranul\", \"vVCT_prol\": \"vCTBp\", \"vVCT\": \"vCTB\"}.get(x, x)).astype(\"category\")\n",
    "\n",
    "adata_all.obs['celltype_final'].value_counts()"
   ]
  },
  {
   "cell_type": "code",
   "execution_count": 12,
   "id": "1211d82d",
   "metadata": {},
   "outputs": [],
   "source": [
    "#Normalize the matrix after merging:\n",
    "ldata_norm_int= adata_all.copy()\n",
    "\n",
    "#Normalize the data:\n",
    "sc.pp.normalize_total(ldata_norm_int, target_sum=1e4)\n",
    "#take the logarithm: \n",
    "sc.pp.log1p(ldata_norm_int)"
   ]
  },
  {
   "cell_type": "code",
   "execution_count": 13,
   "id": "70eeba9d",
   "metadata": {},
   "outputs": [],
   "source": [
    "annot_key= 'celltype_final' #Set the cell type annotation key for segregating by PC(s) later. "
   ]
  },
  {
   "cell_type": "code",
   "execution_count": 14,
   "id": "93b9aabf",
   "metadata": {},
   "outputs": [],
   "source": [
    "#Perform  Principal Component Analysis (PCA) on normalized data.  \n",
    "sc.tl.pca(ldata_norm_int)"
   ]
  },
  {
   "cell_type": "code",
   "execution_count": 15,
   "id": "ad3626f3",
   "metadata": {},
   "outputs": [
    {
     "name": "stdout",
     "output_type": "stream",
     "text": [
      "vCTBpf\n",
      "DSC1\n",
      "DSC2\n",
      "dMono2\n",
      "NKT\n",
      "PAMM\n",
      "dDC\n",
      "dEVT\n",
      "dEpC\n",
      "dFB1\n",
      "dFB2\n",
      "dBcell\n",
      "dGranul\n",
      "dLEC\n",
      "dLECp\n",
      "dMAC1\n",
      "dMAC2\n",
      "dMSC\n",
      "dMono1\n",
      "dNK1\n",
      "dNK2\n",
      "dNKp\n",
      "dPlasma_cell\n",
      "dSMC\n",
      "dTcell\n",
      "dVEC\n",
      "dDSCT\n",
      "vEB1\n",
      "vEVT\n",
      "vFB1\n",
      "vHBC\n",
      "vHBCp\n",
      "vMC\n",
      "vSTB1\n",
      "vSTB2\n",
      "vSTBjuv\n",
      "vTcell\n",
      "vCTB\n",
      "vCTBp\n",
      "vVEC\n"
     ]
    }
   ],
   "source": [
    "#Run as a python script. \n",
    "#On notebook, there can be a MemoryError: [Unable to allocate 1.47 GiB for an array with shape (393400934,) and data type int32]\n",
    "for group in ldata_norm_int.obs[annot_key].cat.categories:\n",
    "    print(group)\n",
    "    adata_sub=ldata_norm_int.copy()\n",
    "    ix= np.in1d(ldata_norm_int.obs[annot_key],group)\n",
    "    adata_sub=ldata_norm_int.copy()[ix]\n",
    "    ldata_norm_int.uns['mean_pca_'+group]=np.squeeze(np.asarray(adata_sub.obsm['X_pca'].mean(axis=0).T))\n",
    "    del adata_sub"
   ]
  },
  {
   "cell_type": "code",
   "execution_count": 16,
   "id": "f03bd99e",
   "metadata": {},
   "outputs": [
    {
     "data": {
      "text/plain": [
       "Index(['vCTBpf', 'DSC1', 'DSC2', 'dMono2', 'NKT', 'PAMM', 'dDC', 'dEVT',\n",
       "       'dEpC', 'dFB1', 'dFB2', 'dBcell', 'dGranul', 'dLEC', 'dLECp', 'dMAC1',\n",
       "       'dMAC2', 'dMSC', 'dMono1', 'dNK1', 'dNK2', 'dNKp', 'dPlasma_cell',\n",
       "       'dSMC', 'dTcell', 'dVEC', 'dDSCT', 'vEB1', 'vEVT', 'vFB1', 'vHBC',\n",
       "       'vHBCp', 'vMC', 'vSTB1', 'vSTB2', 'vSTBjuv', 'vTcell', 'vCTB', 'vCTBp',\n",
       "       'vVEC'],\n",
       "      dtype='object')"
      ]
     },
     "execution_count": 16,
     "metadata": {},
     "output_type": "execute_result"
    }
   ],
   "source": [
    "adata_all.obs['celltype_final'].cat.categories #look at the category names. "
   ]
  },
  {
   "cell_type": "code",
   "execution_count": 17,
   "id": "9fbe695d",
   "metadata": {},
   "outputs": [],
   "source": [
    "#Create an aggregated data frame combining all cell types/states (taking their mean PC values)\n",
    "d = {\n",
    "    'vCTBp':ldata_norm_int.uns['mean_pca_vCTBp'], \n",
    "     'vCTB':ldata_norm_int.uns['mean_pca_vCTB'], \n",
    "     'vCTBpf':ldata_norm_int.uns['mean_pca_vCTBpf'], \n",
    "     'vSTBjuv':ldata_norm_int.uns['mean_pca_vSTBjuv'], \n",
    "     'vSTB1':ldata_norm_int.uns['mean_pca_vSTB1'], \n",
    "     'vSTB2':ldata_norm_int.uns['mean_pca_vSTB2'],\n",
    "     'dDSCT': ldata_norm_int.uns['mean_pca_dDSCT'], \n",
    "     'vCCT': ldata_norm_int.uns['mean_pca_vEVT'], \n",
    "     'dEVT': ldata_norm_int.uns['mean_pca_dEVT'], \n",
    "     'vPAMM':ldata_norm_int.uns['mean_pca_PAMM'], \n",
    "     'vHBC':ldata_norm_int.uns['mean_pca_vHBC'],\n",
    "     'vHBCp':ldata_norm_int.uns['mean_pca_vHBCp'], \n",
    "     'dMAC1':ldata_norm_int.uns['mean_pca_dMAC1'],\n",
    "     'dMAC2':ldata_norm_int.uns['mean_pca_dMAC2'],\n",
    "     'dMono1':ldata_norm_int.uns['mean_pca_dMono1'], \n",
    "     'dMono2':ldata_norm_int.uns['mean_pca_dMono2'], \n",
    "     'dDC':ldata_norm_int.uns['mean_pca_dDC'],\n",
    "     'vTcell': ldata_norm_int.uns['mean_pca_vTcell'], \n",
    "     'dTcell':ldata_norm_int.uns['mean_pca_dTcell'], \n",
    "     'vVEC': ldata_norm_int.uns['mean_pca_vVEC'], \n",
    "     'dVEC': ldata_norm_int.uns['mean_pca_dVEC'],\n",
    "     'dLEC': ldata_norm_int.uns['mean_pca_dLEC'],\n",
    "     'dLECP':ldata_norm_int.uns['mean_pca_dLECp'],\n",
    "     'vFB': ldata_norm_int.uns['mean_pca_vFB1'], \n",
    "     'dFB1':ldata_norm_int.uns['mean_pca_dFB1'],\n",
    "     'dFB2':ldata_norm_int.uns['mean_pca_dFB2'],\n",
    "     'vMC': ldata_norm_int.uns['mean_pca_vMC'], \n",
    "     'dSMC':ldata_norm_int.uns['mean_pca_dSMC'],\n",
    "     'DSC1':ldata_norm_int.uns['mean_pca_DSC1'],\n",
    "     'DSC2':ldata_norm_int.uns['mean_pca_DSC2'],\n",
    "     'dMSC':ldata_norm_int.uns['mean_pca_dMSC'],\n",
    "     'dNK1':ldata_norm_int.uns['mean_pca_dNK1'],\n",
    "     'dNK2':ldata_norm_int.uns['mean_pca_dNK2'],\n",
    "     'dNKp': ldata_norm_int.uns['mean_pca_dNKp'], \n",
    "     'dGranul':ldata_norm_int.uns['mean_pca_dGranul'], \n",
    "     'dBcell':ldata_norm_int.uns['mean_pca_dBcell'],\n",
    "     'dPC': ldata_norm_int.uns['mean_pca_dPlasma_cell'], \n",
    "    'vEB':ldata_norm_int.uns['mean_pca_vEB1'],\n",
    "    'dEpC':ldata_norm_int.uns['mean_pca_dEpC']\n",
    "                      }\n",
    "\n",
    "df = pd.DataFrame(data=d)"
   ]
  },
  {
   "cell_type": "code",
   "execution_count": 20,
   "id": "5bf00991",
   "metadata": {},
   "outputs": [
    {
     "data": {
      "text/html": [
       "<div>\n",
       "<style scoped>\n",
       "    .dataframe tbody tr th:only-of-type {\n",
       "        vertical-align: middle;\n",
       "    }\n",
       "\n",
       "    .dataframe tbody tr th {\n",
       "        vertical-align: top;\n",
       "    }\n",
       "\n",
       "    .dataframe thead th {\n",
       "        text-align: right;\n",
       "    }\n",
       "</style>\n",
       "<table border=\"1\" class=\"dataframe\">\n",
       "  <thead>\n",
       "    <tr style=\"text-align: right;\">\n",
       "      <th></th>\n",
       "      <th>vCTBp</th>\n",
       "      <th>vCTB</th>\n",
       "      <th>vCTBpf</th>\n",
       "      <th>vSTBjuv</th>\n",
       "      <th>vSTB1</th>\n",
       "      <th>vSTB2</th>\n",
       "      <th>dDSCT</th>\n",
       "      <th>vCCT</th>\n",
       "      <th>dEVT</th>\n",
       "      <th>vPAMM</th>\n",
       "      <th>...</th>\n",
       "      <th>DSC2</th>\n",
       "      <th>dMSC</th>\n",
       "      <th>dNK1</th>\n",
       "      <th>dNK2</th>\n",
       "      <th>dNKp</th>\n",
       "      <th>dGranul</th>\n",
       "      <th>dBcell</th>\n",
       "      <th>dPC</th>\n",
       "      <th>vEB</th>\n",
       "      <th>dEpC</th>\n",
       "    </tr>\n",
       "  </thead>\n",
       "  <tbody>\n",
       "    <tr>\n",
       "      <th>vCTBp</th>\n",
       "      <td>1.000000</td>\n",
       "      <td>0.899327</td>\n",
       "      <td>0.386710</td>\n",
       "      <td>0.086781</td>\n",
       "      <td>-0.439388</td>\n",
       "      <td>-0.613359</td>\n",
       "      <td>-0.385752</td>\n",
       "      <td>0.509731</td>\n",
       "      <td>-0.095917</td>\n",
       "      <td>-0.141199</td>\n",
       "      <td>...</td>\n",
       "      <td>-0.322328</td>\n",
       "      <td>-0.005474</td>\n",
       "      <td>-0.254875</td>\n",
       "      <td>-0.309916</td>\n",
       "      <td>0.146349</td>\n",
       "      <td>-0.288816</td>\n",
       "      <td>-0.086196</td>\n",
       "      <td>-0.293815</td>\n",
       "      <td>-0.198511</td>\n",
       "      <td>0.035563</td>\n",
       "    </tr>\n",
       "    <tr>\n",
       "      <th>vCTB</th>\n",
       "      <td>0.899327</td>\n",
       "      <td>1.000000</td>\n",
       "      <td>0.513213</td>\n",
       "      <td>0.105425</td>\n",
       "      <td>-0.378146</td>\n",
       "      <td>-0.596271</td>\n",
       "      <td>-0.332738</td>\n",
       "      <td>0.419909</td>\n",
       "      <td>-0.139197</td>\n",
       "      <td>-0.189134</td>\n",
       "      <td>...</td>\n",
       "      <td>-0.376418</td>\n",
       "      <td>-0.047463</td>\n",
       "      <td>-0.327842</td>\n",
       "      <td>-0.382168</td>\n",
       "      <td>-0.071873</td>\n",
       "      <td>-0.372009</td>\n",
       "      <td>-0.166810</td>\n",
       "      <td>-0.336549</td>\n",
       "      <td>-0.249423</td>\n",
       "      <td>0.019574</td>\n",
       "    </tr>\n",
       "    <tr>\n",
       "      <th>vCTBpf</th>\n",
       "      <td>0.386710</td>\n",
       "      <td>0.513213</td>\n",
       "      <td>1.000000</td>\n",
       "      <td>0.261976</td>\n",
       "      <td>0.103261</td>\n",
       "      <td>-0.111445</td>\n",
       "      <td>0.120166</td>\n",
       "      <td>0.140581</td>\n",
       "      <td>-0.227307</td>\n",
       "      <td>-0.292743</td>\n",
       "      <td>...</td>\n",
       "      <td>-0.292230</td>\n",
       "      <td>-0.268810</td>\n",
       "      <td>-0.371106</td>\n",
       "      <td>-0.402042</td>\n",
       "      <td>-0.279036</td>\n",
       "      <td>-0.477434</td>\n",
       "      <td>-0.330504</td>\n",
       "      <td>-0.349197</td>\n",
       "      <td>-0.229308</td>\n",
       "      <td>-0.135372</td>\n",
       "    </tr>\n",
       "    <tr>\n",
       "      <th>vSTBjuv</th>\n",
       "      <td>0.086781</td>\n",
       "      <td>0.105425</td>\n",
       "      <td>0.261976</td>\n",
       "      <td>1.000000</td>\n",
       "      <td>0.423977</td>\n",
       "      <td>0.303030</td>\n",
       "      <td>0.349925</td>\n",
       "      <td>0.053857</td>\n",
       "      <td>0.260675</td>\n",
       "      <td>-0.443103</td>\n",
       "      <td>...</td>\n",
       "      <td>0.251858</td>\n",
       "      <td>-0.225913</td>\n",
       "      <td>-0.420273</td>\n",
       "      <td>-0.435644</td>\n",
       "      <td>-0.487288</td>\n",
       "      <td>-0.592130</td>\n",
       "      <td>-0.531213</td>\n",
       "      <td>-0.288117</td>\n",
       "      <td>-0.215987</td>\n",
       "      <td>-0.251275</td>\n",
       "    </tr>\n",
       "    <tr>\n",
       "      <th>vSTB1</th>\n",
       "      <td>-0.439388</td>\n",
       "      <td>-0.378146</td>\n",
       "      <td>0.103261</td>\n",
       "      <td>0.423977</td>\n",
       "      <td>1.000000</td>\n",
       "      <td>0.744624</td>\n",
       "      <td>0.914911</td>\n",
       "      <td>-0.253199</td>\n",
       "      <td>-0.230302</td>\n",
       "      <td>-0.520263</td>\n",
       "      <td>...</td>\n",
       "      <td>-0.219074</td>\n",
       "      <td>-0.440659</td>\n",
       "      <td>-0.454732</td>\n",
       "      <td>-0.463955</td>\n",
       "      <td>-0.600427</td>\n",
       "      <td>-0.608406</td>\n",
       "      <td>-0.590224</td>\n",
       "      <td>-0.299159</td>\n",
       "      <td>-0.301227</td>\n",
       "      <td>-0.338449</td>\n",
       "    </tr>\n",
       "  </tbody>\n",
       "</table>\n",
       "<p>5 rows × 39 columns</p>\n",
       "</div>"
      ],
      "text/plain": [
       "            vCTBp      vCTB    vCTBpf   vSTBjuv     vSTB1     vSTB2     dDSCT  \\\n",
       "vCTBp    1.000000  0.899327  0.386710  0.086781 -0.439388 -0.613359 -0.385752   \n",
       "vCTB     0.899327  1.000000  0.513213  0.105425 -0.378146 -0.596271 -0.332738   \n",
       "vCTBpf   0.386710  0.513213  1.000000  0.261976  0.103261 -0.111445  0.120166   \n",
       "vSTBjuv  0.086781  0.105425  0.261976  1.000000  0.423977  0.303030  0.349925   \n",
       "vSTB1   -0.439388 -0.378146  0.103261  0.423977  1.000000  0.744624  0.914911   \n",
       "\n",
       "             vCCT      dEVT     vPAMM  ...      DSC2      dMSC      dNK1  \\\n",
       "vCTBp    0.509731 -0.095917 -0.141199  ... -0.322328 -0.005474 -0.254875   \n",
       "vCTB     0.419909 -0.139197 -0.189134  ... -0.376418 -0.047463 -0.327842   \n",
       "vCTBpf   0.140581 -0.227307 -0.292743  ... -0.292230 -0.268810 -0.371106   \n",
       "vSTBjuv  0.053857  0.260675 -0.443103  ...  0.251858 -0.225913 -0.420273   \n",
       "vSTB1   -0.253199 -0.230302 -0.520263  ... -0.219074 -0.440659 -0.454732   \n",
       "\n",
       "             dNK2      dNKp   dGranul    dBcell       dPC       vEB      dEpC  \n",
       "vCTBp   -0.309916  0.146349 -0.288816 -0.086196 -0.293815 -0.198511  0.035563  \n",
       "vCTB    -0.382168 -0.071873 -0.372009 -0.166810 -0.336549 -0.249423  0.019574  \n",
       "vCTBpf  -0.402042 -0.279036 -0.477434 -0.330504 -0.349197 -0.229308 -0.135372  \n",
       "vSTBjuv -0.435644 -0.487288 -0.592130 -0.531213 -0.288117 -0.215987 -0.251275  \n",
       "vSTB1   -0.463955 -0.600427 -0.608406 -0.590224 -0.299159 -0.301227 -0.338449  \n",
       "\n",
       "[5 rows x 39 columns]"
      ]
     },
     "execution_count": 20,
     "metadata": {},
     "output_type": "execute_result"
    }
   ],
   "source": [
    "#Calculate Pearson correlation:\n",
    "\n",
    "#No need to sort the df since we'll both row/column cluster. \n",
    "df_cor_pearson=np.corrcoef(df.T)\n",
    "names=df.columns\n",
    "df_cor_named_pearson=pd.DataFrame(df_cor_pearson,index=names,columns=names)\n",
    "df_cor_named_pearson.head()"
   ]
  },
  {
   "cell_type": "code",
   "execution_count": 29,
   "id": "1f75fbd7",
   "metadata": {},
   "outputs": [],
   "source": [
    "import matplotlib.pyplot as plt\n",
    "import seaborn as sns"
   ]
  },
  {
   "cell_type": "code",
   "execution_count": 33,
   "id": "d3bf8127",
   "metadata": {},
   "outputs": [
    {
     "name": "stderr",
     "output_type": "stream",
     "text": [
      "/home/debnatho/anaconda3/envs/scvi_analysis/lib/python3.7/site-packages/ipykernel_launcher.py:7: MatplotlibDeprecationWarning: savefig() got unexpected keyword argument \"center\" which is no longer supported as of 3.3 and will become an error two minor releases later\n",
      "  import sys\n"
     ]
    },
    {
     "data": {
      "image/png": "[encoded data removed]",
      "text/plain": [
       "<Figure size 720x720 with 4 Axes>"
      ]
     },
     "metadata": {
      "needs_background": "light"
     },
     "output_type": "display_data"
    }
   ],
   "source": [
    "#Extended Data figure 2D: \n",
    "plt.rcParams['figure.figsize']= (60,60)\n",
    "\n",
    "#Plot a matrix dataset as a hierarchically-clustered heatmap.\n",
    "#Show all cluster labels. \n",
    "ax= sns.clustermap(df_cor_named_pearson,cmap='RdBu_r',method='average', col_cluster=True, row_cluster=True, yticklabels=True)\n",
    "plt.savefig(\"Celltype_PearsonCorr_manuscript_v1.pdf\", dpi=400, orientation='landscape', bbox_inches='tight', center=0)"
   ]
  },
  {
   "cell_type": "code",
   "execution_count": null,
   "id": "80e519e1",
   "metadata": {},
   "outputs": [],
   "source": []
  }
 ],
 "metadata": {
  "kernelspec": {
   "display_name": "Python 3 (ipykernel)",
   "language": "python",
   "name": "python3"
  },
  "language_info": {
   "codemirror_mode": {
    "name": "ipython",
    "version": 3
   },
   "file_extension": ".py",
   "mimetype": "text/x-python",
   "name": "python",
   "nbconvert_exporter": "python",
   "pygments_lexer": "ipython3",
   "version": "3.7.9"
  }
 },
 "nbformat": 4,
 "nbformat_minor": 5
}
